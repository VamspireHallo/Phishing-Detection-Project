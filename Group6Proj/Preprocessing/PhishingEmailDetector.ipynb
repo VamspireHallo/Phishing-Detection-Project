{
  "nbformat": 4,
  "nbformat_minor": 0,
  "metadata": {
    "colab": {
      "provenance": []
    },
    "kernelspec": {
      "name": "python3",
      "display_name": "Python 3"
    },
    "language_info": {
      "name": "python"
    }
  },
  "cells": [
    {
      "cell_type": "code",
      "execution_count": 1,
      "metadata": {
        "id": "BFiBVecbS6sx"
      },
      "outputs": [],
      "source": [
        "import numpy as np\n",
        "import pandas as pd\n",
        "import seaborn as sns\n",
        "import matplotlib.pyplot as plt\n",
        "from sklearn.model_selection import train_test_split\n",
        "from sklearn import metrics\n",
        "from sklearn.metrics import classification_report,confusion_matrix,roc_curve, roc_auc_score, accuracy_score\n",
        "from keras.preprocessing.sequence import pad_sequences\n",
        "import pickle"
      ]
    },
    {
      "cell_type": "code",
      "source": [
        "# loading dataset and preprocessing\n",
        "dataset = pd.read_csv('phishing_ham_dataset.csv')\n",
        "dataset = dataset.where((pd.notnull(dataset)),'')\n",
        "target = dataset['Label'] # the feature we would like to predict, the label of picture\n",
        "data = dataset['Body']\n",
        "dataset"
      ],
      "metadata": {
        "colab": {
          "base_uri": "https://localhost:8080/",
          "height": 424
        },
        "id": "mraoUQMLwy1i",
        "outputId": "7dc83b35-24fe-4c9b-9b6c-f5a5bdb5d99b"
      },
      "execution_count": 2,
      "outputs": [
        {
          "output_type": "execute_result",
          "data": {
            "text/plain": [
              "                                                   Body  Label\n",
              "0     Dear GoDaddy Customer GoDaddy Customer Support...      1\n",
              "1     Dear Citizens Bank and Charter One Bank custom...      1\n",
              "2     eBay sent this message Your registered name is...      1\n",
              "3     Dear Citizens Bank and Charter One Bank custom...      1\n",
              "4     Dear Citizens Bank and Charter One Bank custom...      1\n",
              "...                                                 ...    ...\n",
              "5357  ----------------------------------------------...      0\n",
              "5358  EFFector       Vol. 15, No. 35       November ...      0\n",
              "5359  \\nWe have extended our Free seat sale until Th...      0\n",
              "5360                    ___           ___           ...      0\n",
              "5361  IN THIS ISSUE:01. Readers write\\n02. Extension...      0\n",
              "\n",
              "[5362 rows x 2 columns]"
            ],
            "text/html": [
              "\n",
              "  <div id=\"df-6cb855bf-45bb-465e-95d6-3e228412abd8\" class=\"colab-df-container\">\n",
              "    <div>\n",
              "<style scoped>\n",
              "    .dataframe tbody tr th:only-of-type {\n",
              "        vertical-align: middle;\n",
              "    }\n",
              "\n",
              "    .dataframe tbody tr th {\n",
              "        vertical-align: top;\n",
              "    }\n",
              "\n",
              "    .dataframe thead th {\n",
              "        text-align: right;\n",
              "    }\n",
              "</style>\n",
              "<table border=\"1\" class=\"dataframe\">\n",
              "  <thead>\n",
              "    <tr style=\"text-align: right;\">\n",
              "      <th></th>\n",
              "      <th>Body</th>\n",
              "      <th>Label</th>\n",
              "    </tr>\n",
              "  </thead>\n",
              "  <tbody>\n",
              "    <tr>\n",
              "      <th>0</th>\n",
              "      <td>Dear GoDaddy Customer GoDaddy Customer Support...</td>\n",
              "      <td>1</td>\n",
              "    </tr>\n",
              "    <tr>\n",
              "      <th>1</th>\n",
              "      <td>Dear Citizens Bank and Charter One Bank custom...</td>\n",
              "      <td>1</td>\n",
              "    </tr>\n",
              "    <tr>\n",
              "      <th>2</th>\n",
              "      <td>eBay sent this message Your registered name is...</td>\n",
              "      <td>1</td>\n",
              "    </tr>\n",
              "    <tr>\n",
              "      <th>3</th>\n",
              "      <td>Dear Citizens Bank and Charter One Bank custom...</td>\n",
              "      <td>1</td>\n",
              "    </tr>\n",
              "    <tr>\n",
              "      <th>4</th>\n",
              "      <td>Dear Citizens Bank and Charter One Bank custom...</td>\n",
              "      <td>1</td>\n",
              "    </tr>\n",
              "    <tr>\n",
              "      <th>...</th>\n",
              "      <td>...</td>\n",
              "      <td>...</td>\n",
              "    </tr>\n",
              "    <tr>\n",
              "      <th>5357</th>\n",
              "      <td>----------------------------------------------...</td>\n",
              "      <td>0</td>\n",
              "    </tr>\n",
              "    <tr>\n",
              "      <th>5358</th>\n",
              "      <td>EFFector       Vol. 15, No. 35       November ...</td>\n",
              "      <td>0</td>\n",
              "    </tr>\n",
              "    <tr>\n",
              "      <th>5359</th>\n",
              "      <td>\\nWe have extended our Free seat sale until Th...</td>\n",
              "      <td>0</td>\n",
              "    </tr>\n",
              "    <tr>\n",
              "      <th>5360</th>\n",
              "      <td>___           ___           ...</td>\n",
              "      <td>0</td>\n",
              "    </tr>\n",
              "    <tr>\n",
              "      <th>5361</th>\n",
              "      <td>IN THIS ISSUE:01. Readers write\\n02. Extension...</td>\n",
              "      <td>0</td>\n",
              "    </tr>\n",
              "  </tbody>\n",
              "</table>\n",
              "<p>5362 rows × 2 columns</p>\n",
              "</div>\n",
              "    <div class=\"colab-df-buttons\">\n",
              "\n",
              "  <div class=\"colab-df-container\">\n",
              "    <button class=\"colab-df-convert\" onclick=\"convertToInteractive('df-6cb855bf-45bb-465e-95d6-3e228412abd8')\"\n",
              "            title=\"Convert this dataframe to an interactive table.\"\n",
              "            style=\"display:none;\">\n",
              "\n",
              "  <svg xmlns=\"http://www.w3.org/2000/svg\" height=\"24px\" viewBox=\"0 -960 960 960\">\n",
              "    <path d=\"M120-120v-720h720v720H120Zm60-500h600v-160H180v160Zm220 220h160v-160H400v160Zm0 220h160v-160H400v160ZM180-400h160v-160H180v160Zm440 0h160v-160H620v160ZM180-180h160v-160H180v160Zm440 0h160v-160H620v160Z\"/>\n",
              "  </svg>\n",
              "    </button>\n",
              "\n",
              "  <style>\n",
              "    .colab-df-container {\n",
              "      display:flex;\n",
              "      gap: 12px;\n",
              "    }\n",
              "\n",
              "    .colab-df-convert {\n",
              "      background-color: #E8F0FE;\n",
              "      border: none;\n",
              "      border-radius: 50%;\n",
              "      cursor: pointer;\n",
              "      display: none;\n",
              "      fill: #1967D2;\n",
              "      height: 32px;\n",
              "      padding: 0 0 0 0;\n",
              "      width: 32px;\n",
              "    }\n",
              "\n",
              "    .colab-df-convert:hover {\n",
              "      background-color: #E2EBFA;\n",
              "      box-shadow: 0px 1px 2px rgba(60, 64, 67, 0.3), 0px 1px 3px 1px rgba(60, 64, 67, 0.15);\n",
              "      fill: #174EA6;\n",
              "    }\n",
              "\n",
              "    .colab-df-buttons div {\n",
              "      margin-bottom: 4px;\n",
              "    }\n",
              "\n",
              "    [theme=dark] .colab-df-convert {\n",
              "      background-color: #3B4455;\n",
              "      fill: #D2E3FC;\n",
              "    }\n",
              "\n",
              "    [theme=dark] .colab-df-convert:hover {\n",
              "      background-color: #434B5C;\n",
              "      box-shadow: 0px 1px 3px 1px rgba(0, 0, 0, 0.15);\n",
              "      filter: drop-shadow(0px 1px 2px rgba(0, 0, 0, 0.3));\n",
              "      fill: #FFFFFF;\n",
              "    }\n",
              "  </style>\n",
              "\n",
              "    <script>\n",
              "      const buttonEl =\n",
              "        document.querySelector('#df-6cb855bf-45bb-465e-95d6-3e228412abd8 button.colab-df-convert');\n",
              "      buttonEl.style.display =\n",
              "        google.colab.kernel.accessAllowed ? 'block' : 'none';\n",
              "\n",
              "      async function convertToInteractive(key) {\n",
              "        const element = document.querySelector('#df-6cb855bf-45bb-465e-95d6-3e228412abd8');\n",
              "        const dataTable =\n",
              "          await google.colab.kernel.invokeFunction('convertToInteractive',\n",
              "                                                    [key], {});\n",
              "        if (!dataTable) return;\n",
              "\n",
              "        const docLinkHtml = 'Like what you see? Visit the ' +\n",
              "          '<a target=\"_blank\" href=https://colab.research.google.com/notebooks/data_table.ipynb>data table notebook</a>'\n",
              "          + ' to learn more about interactive tables.';\n",
              "        element.innerHTML = '';\n",
              "        dataTable['output_type'] = 'display_data';\n",
              "        await google.colab.output.renderOutput(dataTable, element);\n",
              "        const docLink = document.createElement('div');\n",
              "        docLink.innerHTML = docLinkHtml;\n",
              "        element.appendChild(docLink);\n",
              "      }\n",
              "    </script>\n",
              "  </div>\n",
              "\n",
              "\n",
              "<div id=\"df-463d10a9-c935-47ef-81b5-59370615bda4\">\n",
              "  <button class=\"colab-df-quickchart\" onclick=\"quickchart('df-463d10a9-c935-47ef-81b5-59370615bda4')\"\n",
              "            title=\"Suggest charts\"\n",
              "            style=\"display:none;\">\n",
              "\n",
              "<svg xmlns=\"http://www.w3.org/2000/svg\" height=\"24px\"viewBox=\"0 0 24 24\"\n",
              "     width=\"24px\">\n",
              "    <g>\n",
              "        <path d=\"M19 3H5c-1.1 0-2 .9-2 2v14c0 1.1.9 2 2 2h14c1.1 0 2-.9 2-2V5c0-1.1-.9-2-2-2zM9 17H7v-7h2v7zm4 0h-2V7h2v10zm4 0h-2v-4h2v4z\"/>\n",
              "    </g>\n",
              "</svg>\n",
              "  </button>\n",
              "\n",
              "<style>\n",
              "  .colab-df-quickchart {\n",
              "      --bg-color: #E8F0FE;\n",
              "      --fill-color: #1967D2;\n",
              "      --hover-bg-color: #E2EBFA;\n",
              "      --hover-fill-color: #174EA6;\n",
              "      --disabled-fill-color: #AAA;\n",
              "      --disabled-bg-color: #DDD;\n",
              "  }\n",
              "\n",
              "  [theme=dark] .colab-df-quickchart {\n",
              "      --bg-color: #3B4455;\n",
              "      --fill-color: #D2E3FC;\n",
              "      --hover-bg-color: #434B5C;\n",
              "      --hover-fill-color: #FFFFFF;\n",
              "      --disabled-bg-color: #3B4455;\n",
              "      --disabled-fill-color: #666;\n",
              "  }\n",
              "\n",
              "  .colab-df-quickchart {\n",
              "    background-color: var(--bg-color);\n",
              "    border: none;\n",
              "    border-radius: 50%;\n",
              "    cursor: pointer;\n",
              "    display: none;\n",
              "    fill: var(--fill-color);\n",
              "    height: 32px;\n",
              "    padding: 0;\n",
              "    width: 32px;\n",
              "  }\n",
              "\n",
              "  .colab-df-quickchart:hover {\n",
              "    background-color: var(--hover-bg-color);\n",
              "    box-shadow: 0 1px 2px rgba(60, 64, 67, 0.3), 0 1px 3px 1px rgba(60, 64, 67, 0.15);\n",
              "    fill: var(--button-hover-fill-color);\n",
              "  }\n",
              "\n",
              "  .colab-df-quickchart-complete:disabled,\n",
              "  .colab-df-quickchart-complete:disabled:hover {\n",
              "    background-color: var(--disabled-bg-color);\n",
              "    fill: var(--disabled-fill-color);\n",
              "    box-shadow: none;\n",
              "  }\n",
              "\n",
              "  .colab-df-spinner {\n",
              "    border: 2px solid var(--fill-color);\n",
              "    border-color: transparent;\n",
              "    border-bottom-color: var(--fill-color);\n",
              "    animation:\n",
              "      spin 1s steps(1) infinite;\n",
              "  }\n",
              "\n",
              "  @keyframes spin {\n",
              "    0% {\n",
              "      border-color: transparent;\n",
              "      border-bottom-color: var(--fill-color);\n",
              "      border-left-color: var(--fill-color);\n",
              "    }\n",
              "    20% {\n",
              "      border-color: transparent;\n",
              "      border-left-color: var(--fill-color);\n",
              "      border-top-color: var(--fill-color);\n",
              "    }\n",
              "    30% {\n",
              "      border-color: transparent;\n",
              "      border-left-color: var(--fill-color);\n",
              "      border-top-color: var(--fill-color);\n",
              "      border-right-color: var(--fill-color);\n",
              "    }\n",
              "    40% {\n",
              "      border-color: transparent;\n",
              "      border-right-color: var(--fill-color);\n",
              "      border-top-color: var(--fill-color);\n",
              "    }\n",
              "    60% {\n",
              "      border-color: transparent;\n",
              "      border-right-color: var(--fill-color);\n",
              "    }\n",
              "    80% {\n",
              "      border-color: transparent;\n",
              "      border-right-color: var(--fill-color);\n",
              "      border-bottom-color: var(--fill-color);\n",
              "    }\n",
              "    90% {\n",
              "      border-color: transparent;\n",
              "      border-bottom-color: var(--fill-color);\n",
              "    }\n",
              "  }\n",
              "</style>\n",
              "\n",
              "  <script>\n",
              "    async function quickchart(key) {\n",
              "      const quickchartButtonEl =\n",
              "        document.querySelector('#' + key + ' button');\n",
              "      quickchartButtonEl.disabled = true;  // To prevent multiple clicks.\n",
              "      quickchartButtonEl.classList.add('colab-df-spinner');\n",
              "      try {\n",
              "        const charts = await google.colab.kernel.invokeFunction(\n",
              "            'suggestCharts', [key], {});\n",
              "      } catch (error) {\n",
              "        console.error('Error during call to suggestCharts:', error);\n",
              "      }\n",
              "      quickchartButtonEl.classList.remove('colab-df-spinner');\n",
              "      quickchartButtonEl.classList.add('colab-df-quickchart-complete');\n",
              "    }\n",
              "    (() => {\n",
              "      let quickchartButtonEl =\n",
              "        document.querySelector('#df-463d10a9-c935-47ef-81b5-59370615bda4 button');\n",
              "      quickchartButtonEl.style.display =\n",
              "        google.colab.kernel.accessAllowed ? 'block' : 'none';\n",
              "    })();\n",
              "  </script>\n",
              "</div>\n",
              "    </div>\n",
              "  </div>\n"
            ]
          },
          "metadata": {},
          "execution_count": 2
        }
      ]
    },
    {
      "cell_type": "code",
      "source": [
        "sns.countplot(data=dataset, x='Label')\n",
        "plt.xlabel('Email Type')\n",
        "# plt.title('Number of Phishing email and Safe email messages')"
      ],
      "metadata": {
        "colab": {
          "base_uri": "https://localhost:8080/",
          "height": 466
        },
        "id": "P7vdQSWsMfit",
        "outputId": "98290b80-38fb-410b-c326-9e2f977fa9c8"
      },
      "execution_count": 4,
      "outputs": [
        {
          "output_type": "execute_result",
          "data": {
            "text/plain": [
              "Text(0.5, 0, 'Email Type')"
            ]
          },
          "metadata": {},
          "execution_count": 4
        },
        {
          "output_type": "display_data",
          "data": {
            "text/plain": [
              "<Figure size 640x480 with 1 Axes>"
            ],
            "image/png": "[encoded data removed]"
          },
          "metadata": {}
        }
      ]
    },
    {
      "cell_type": "code",
      "source": [
        "print(target)\n",
        "print(data)"
      ],
      "metadata": {
        "colab": {
          "base_uri": "https://localhost:8080/"
        },
        "id": "bpTmqObel3E1",
        "outputId": "b3c25b55-4bde-4808-e630-2c841469471b"
      },
      "execution_count": 625,
      "outputs": [
        {
          "output_type": "stream",
          "name": "stdout",
          "text": [
            "0      0\n",
            "1      0\n",
            "2      0\n",
            "3      0\n",
            "4      0\n",
            "      ..\n",
            "154    2\n",
            "155    2\n",
            "156    2\n",
            "157    2\n",
            "158    2\n",
            "Name: Type, Length: 132, dtype: object\n",
            "0      URGENT BUSINESS ASSISTANCE AND PARTNERSHIP.\\r\\...\n",
            "1      Dear Friend,\\r\\n\\r\\nI am Mr. Ben Suleman a cus...\n",
            "2      FROM HIS ROYAL MAJESTY (HRM) CROWN RULER OF EL...\n",
            "3      Goodday Dear\\r\\n\\r\\n\\r\\nI know this mail will ...\n",
            "4      FROM MR. GODWIN AKWESI\\r\\nTEL: +233 208216645\\...\n",
            "                             ...                        \n",
            "154    Bags so perfect—you'll never want to be withou...\n",
            "155    INAUGURAL BROADWAY PERFORMANCE APRIL 14\\r\\nA N...\n",
            "156    GET THE BEST OF EVERYTHING IN THE APP\\r\\n\\r\\nS...\n",
            "157    Hi!\\r\\n \\r\\nSpring forward with our newest noP...\n",
            "158    Hi,  | PLAYER MEMBER | 0 Points\\r\\n\\r\\nEarn An...\n",
            "Name: Text, Length: 132, dtype: object\n"
          ]
        }
      ]
    },
    {
      "cell_type": "code",
      "source": [
        "X_train, X_test, y_train, y_test = train_test_split(data, target, test_size=0.3, random_state = 0)"
      ],
      "metadata": {
        "id": "DAfYRH1JmFeZ"
      },
      "execution_count": 5,
      "outputs": []
    },
    {
      "cell_type": "code",
      "source": [
        "import nltk\n",
        "\n",
        "nltk.download('stopwords')"
      ],
      "metadata": {
        "colab": {
          "base_uri": "https://localhost:8080/"
        },
        "id": "lOT6rZraEENx",
        "outputId": "f461b1d1-f1de-41e9-a6f0-6762da7697e5"
      },
      "execution_count": 6,
      "outputs": [
        {
          "output_type": "stream",
          "name": "stderr",
          "text": [
            "[nltk_data] Downloading package stopwords to /root/nltk_data...\n",
            "[nltk_data]   Unzipping corpora/stopwords.zip.\n"
          ]
        },
        {
          "output_type": "execute_result",
          "data": {
            "text/plain": [
              "True"
            ]
          },
          "metadata": {},
          "execution_count": 6
        }
      ]
    },
    {
      "cell_type": "code",
      "source": [
        "from sklearn.feature_extraction.text import TfidfVectorizer\n",
        "from nltk.corpus import stopwords\n",
        "STOP_WORDS = stopwords.words('english')\n",
        "feature_extraction = TfidfVectorizer(min_df = 1, stop_words=STOP_WORDS, lowercase=True)\n",
        "\n",
        "X_train_features = feature_extraction.fit_transform(X_train)\n",
        "X_test_features = feature_extraction.transform(X_test)\n",
        "\n",
        "y_train = y_train.astype(int)\n",
        "y_test = y_test.astype(int)"
      ],
      "metadata": {
        "id": "F5fski_XnAbC"
      },
      "execution_count": 7,
      "outputs": []
    },
    {
      "cell_type": "code",
      "source": [
        "print(X_train_features)"
      ],
      "metadata": {
        "colab": {
          "base_uri": "https://localhost:8080/"
        },
        "id": "BBiaNwC7p2Y5",
        "outputId": "d9d9eee6-5cda-4b13-c523-165c0e03dc34"
      },
      "execution_count": 8,
      "outputs": [
        {
          "output_type": "stream",
          "name": "stdout",
          "text": [
            "  (0, 5397)\t0.12880934555740364\n",
            "  (0, 42839)\t0.09311208925869828\n",
            "  (0, 37282)\t0.11242533413213328\n",
            "  (0, 37721)\t0.10713181265334945\n",
            "  (0, 42583)\t0.18677614598316544\n",
            "  (0, 27852)\t0.12238975294872705\n",
            "  (0, 22664)\t0.13729179990367343\n",
            "  (0, 47840)\t0.13963777467290345\n",
            "  (0, 37151)\t0.13337086820880248\n",
            "  (0, 45812)\t0.13786329482284276\n",
            "  (0, 11774)\t0.05349696199218305\n",
            "  (0, 47851)\t0.29029949077690453\n",
            "  (0, 27854)\t0.29029949077690453\n",
            "  (0, 22877)\t0.04964228221169535\n",
            "  (0, 23923)\t0.08226493078592932\n",
            "  (0, 27364)\t0.14259643533819027\n",
            "  (0, 18728)\t0.16240684935943694\n",
            "  (0, 27050)\t0.10583411644106032\n",
            "  (0, 11413)\t0.15831410534684384\n",
            "  (0, 35902)\t0.16048525635172606\n",
            "  (0, 9228)\t0.13691607069659506\n",
            "  (0, 45803)\t0.2329516344111543\n",
            "  (0, 30526)\t0.10465640054752856\n",
            "  (0, 34958)\t0.11143966664705642\n",
            "  (0, 7539)\t0.15866647272046294\n",
            "  :\t:\n",
            "  (3752, 47399)\t0.08485659288874438\n",
            "  (3752, 27161)\t0.1760321196728035\n",
            "  (3752, 10747)\t0.07453677648026781\n",
            "  (3752, 17513)\t0.08181983465182982\n",
            "  (3752, 48000)\t0.08221380060612127\n",
            "  (3752, 27028)\t0.07916291090332217\n",
            "  (3752, 20967)\t0.07372107706034939\n",
            "  (3752, 4574)\t0.06182558965819718\n",
            "  (3752, 18773)\t0.0714463664655747\n",
            "  (3752, 6010)\t0.059618536970792856\n",
            "  (3752, 22883)\t0.06584191044309674\n",
            "  (3752, 27884)\t0.05424165894636456\n",
            "  (3752, 47977)\t0.06459016391520392\n",
            "  (3752, 41009)\t0.27999450988504987\n",
            "  (3752, 27120)\t0.04378422039269526\n",
            "  (3752, 16750)\t0.04916091378760745\n",
            "  (3752, 45928)\t0.051538210126207844\n",
            "  (3752, 30635)\t0.15219295977837313\n",
            "  (3752, 27151)\t0.04201496920810743\n",
            "  (3752, 48123)\t0.05066320038499958\n",
            "  (3752, 48055)\t0.05547804288004849\n",
            "  (3752, 1846)\t0.0418503471491944\n",
            "  (3752, 11774)\t0.03346956317567322\n",
            "  (3752, 22877)\t0.031057941213777987\n",
            "  (3752, 26998)\t0.08133742047567673\n"
          ]
        }
      ]
    },
    {
      "cell_type": "markdown",
      "source": [
        "**Logisitc Regression**"
      ],
      "metadata": {
        "id": "rPaiBBY5IhIC"
      }
    },
    {
      "cell_type": "code",
      "source": [
        "from sklearn.linear_model import LogisticRegression\n",
        "\n",
        "logistic_regression_model = LogisticRegression(max_iter=100, penalty='l2', C=1.0)\n",
        "# , penalty='l2', C=1.0, solver='lbfgs'\n",
        "\n",
        "history = logistic_regression_model.fit(X_train_features, y_train)"
      ],
      "metadata": {
        "id": "2zxZHLnrrLwN"
      },
      "execution_count": 9,
      "outputs": []
    },
    {
      "cell_type": "code",
      "source": [
        "y_pred_train = logistic_regression_model.predict(X_train_features)\n",
        "\n",
        "print(\"Accuracy on Test:\", accuracy_score(y_train, y_pred_train))\n",
        "print(\"Classification Report:\\n\", classification_report(y_train, y_pred_train))\n",
        "\n",
        "y_pred_test = logistic_regression_model.predict(X_test_features)\n",
        "\n",
        "print(\"Accuracy on Test:\", accuracy_score(y_test, y_pred_test))\n",
        "print(\"Classification Report:\\n\", classification_report(y_test, y_pred_test))"
      ],
      "metadata": {
        "colab": {
          "base_uri": "https://localhost:8080/"
        },
        "id": "0E1dapkmtxmR",
        "outputId": "2bcf3b51-0f7e-480e-db37-12529abb7c5e"
      },
      "execution_count": 13,
      "outputs": [
        {
          "output_type": "stream",
          "name": "stdout",
          "text": [
            "Accuracy on Test: 0.9890754063415934\n",
            "Classification Report:\n",
            "               precision    recall  f1-score   support\n",
            "\n",
            "           0       0.99      1.00      0.99      2751\n",
            "           1       1.00      0.96      0.98      1002\n",
            "\n",
            "    accuracy                           0.99      3753\n",
            "   macro avg       0.99      0.98      0.99      3753\n",
            "weighted avg       0.99      0.99      0.99      3753\n",
            "\n",
            "Accuracy on Test: 0.9844623990055935\n",
            "Classification Report:\n",
            "               precision    recall  f1-score   support\n",
            "\n",
            "           0       0.98      1.00      0.99      1201\n",
            "           1       1.00      0.94      0.97       408\n",
            "\n",
            "    accuracy                           0.98      1609\n",
            "   macro avg       0.99      0.97      0.98      1609\n",
            "weighted avg       0.98      0.98      0.98      1609\n",
            "\n"
          ]
        }
      ]
    },
    {
      "cell_type": "code",
      "source": [
        "cm = confusion_matrix(y_test, y_pred_test)\n",
        "plt.figure(figsize=(8, 6))\n",
        "sns.heatmap(cm, annot=True, fmt='d', cmap='Blues', xticklabels=['Ham', 'Phishing'], yticklabels=['Ham', 'Phishing'])\n",
        "plt.xlabel('Predicted Label')\n",
        "plt.ylabel('True Label')\n",
        "plt.title('Confusion Matrix')\n",
        "plt.show()"
      ],
      "metadata": {
        "colab": {
          "base_uri": "https://localhost:8080/",
          "height": 564
        },
        "id": "LwJd_RMMTETY",
        "outputId": "248f423f-7199-4a66-fac5-66465d513912"
      },
      "execution_count": 22,
      "outputs": [
        {
          "output_type": "display_data",
          "data": {
            "text/plain": [
              "<Figure size 800x600 with 2 Axes>"
            ],
            "image/png": "[encoded data removed]"
          },
          "metadata": {}
        }
      ]
    },
    {
      "cell_type": "code",
      "source": [
        "# Assuming 'model' is your trained machine learning model\n",
        "model_filename = 'email_detection_logistic_regression.pkl'\n",
        "with open(model_filename, 'wb') as model_file:\n",
        "    pickle.dump(logistic_regression_model, model_file)"
      ],
      "metadata": {
        "id": "MocjTyB0Haih"
      },
      "execution_count": 15,
      "outputs": []
    },
    {
      "cell_type": "markdown",
      "source": [
        "**Random Forests**"
      ],
      "metadata": {
        "id": "36gvsAaAOJ49"
      }
    },
    {
      "cell_type": "code",
      "source": [
        "from sklearn.ensemble import RandomForestClassifier\n",
        "\n",
        "random_forest_model = RandomForestClassifier(n_estimators=15)\n",
        "history2 = random_forest_model.fit(X_train_features, y_train)\n",
        "\n"
      ],
      "metadata": {
        "id": "utgKo3c2OJMt"
      },
      "execution_count": 27,
      "outputs": []
    },
    {
      "cell_type": "code",
      "source": [
        "y_pred_train = random_forest_model.predict(X_train_features)\n",
        "\n",
        "print(\"Accuracy on Test:\", accuracy_score(y_train, y_pred_train))\n",
        "print(\"Classification Report:\\n\", classification_report(y_train, y_pred_train))\n",
        "\n",
        "y_pred_test = random_forest_model.predict(X_test_features)\n",
        "\n",
        "print(\"Accuracy:\", accuracy_score(y_test, y_pred_test))\n",
        "print(\"Classification Report:\\n\", classification_report(y_test, y_pred_test))"
      ],
      "metadata": {
        "colab": {
          "base_uri": "https://localhost:8080/"
        },
        "id": "cF4vtBw8z4sX",
        "outputId": "e68789e8-d9db-4d88-813e-e4a0fd39e1d5"
      },
      "execution_count": 28,
      "outputs": [
        {
          "output_type": "stream",
          "name": "stdout",
          "text": [
            "Accuracy on Test: 1.0\n",
            "Classification Report:\n",
            "               precision    recall  f1-score   support\n",
            "\n",
            "           0       1.00      1.00      1.00      2751\n",
            "           1       1.00      1.00      1.00      1002\n",
            "\n",
            "    accuracy                           1.00      3753\n",
            "   macro avg       1.00      1.00      1.00      3753\n",
            "weighted avg       1.00      1.00      1.00      3753\n",
            "\n",
            "Accuracy: 0.9875699192044748\n",
            "Classification Report:\n",
            "               precision    recall  f1-score   support\n",
            "\n",
            "           0       1.00      0.99      0.99      1201\n",
            "           1       0.96      0.99      0.98       408\n",
            "\n",
            "    accuracy                           0.99      1609\n",
            "   macro avg       0.98      0.99      0.98      1609\n",
            "weighted avg       0.99      0.99      0.99      1609\n",
            "\n"
          ]
        }
      ]
    },
    {
      "cell_type": "code",
      "source": [
        "cm = confusion_matrix(y_test, y_pred_test)\n",
        "plt.figure(figsize=(8, 6))\n",
        "sns.heatmap(cm, annot=True, fmt='d', cmap='Blues', xticklabels=['Ham', 'Phishing'], yticklabels=['Ham', 'Phishing'])\n",
        "plt.xlabel('Predicted Label')\n",
        "plt.ylabel('True Label')\n",
        "plt.title('Confusion Matrix')\n",
        "plt.show()"
      ],
      "metadata": {
        "colab": {
          "base_uri": "https://localhost:8080/",
          "height": 564
        },
        "id": "MUSqtdnFwCna",
        "outputId": "d752a17a-0250-4f90-b059-d8dc5405c982"
      },
      "execution_count": 31,
      "outputs": [
        {
          "output_type": "display_data",
          "data": {
            "text/plain": [
              "<Figure size 800x600 with 2 Axes>"
            ],
            "image/png": "[encoded data removed]"
          },
          "metadata": {}
        }
      ]
    },
    {
      "cell_type": "code",
      "source": [
        "model_filename = 'email_detection_random_forest.pkl'\n",
        "with open(model_filename, 'wb') as model_file:\n",
        "    pickle.dump(random_forest_model, model_file)"
      ],
      "metadata": {
        "id": "tws66i0nWuSO"
      },
      "execution_count": 56,
      "outputs": []
    },
    {
      "cell_type": "markdown",
      "source": [
        "Naive Bayes"
      ],
      "metadata": {
        "id": "ggHYBfRtXd0s"
      }
    },
    {
      "cell_type": "code",
      "source": [
        "from sklearn.naive_bayes import MultinomialNB\n",
        "\n",
        "naive_bayes_model = MultinomialNB()\n",
        "history3 = naive_bayes_model.fit(X_train_features, y_train)"
      ],
      "metadata": {
        "id": "JFDcvSrrXxa8"
      },
      "execution_count": 33,
      "outputs": []
    },
    {
      "cell_type": "code",
      "source": [
        "y_pred_train = naive_bayes_model.predict(X_train_features)\n",
        "\n",
        "print(\"Accuracy on Test:\", accuracy_score(y_train, y_pred_train))\n",
        "print(\"Classification Report:\\n\", classification_report(y_train, y_pred_train))\n",
        "\n",
        "y_pred_test = naive_bayes_model.predict(X_test_features.toarray())\n",
        "\n",
        "print(\"Accuracy:\", accuracy_score(y_test, y_pred_test))\n",
        "print(\"Classification Report:\\n\", classification_report(y_test, y_pred_test))"
      ],
      "metadata": {
        "colab": {
          "base_uri": "https://localhost:8080/"
        },
        "id": "w_dkVVJmw9Qn",
        "outputId": "1c2d688b-25fc-4dec-b2b5-06db5304c143"
      },
      "execution_count": 35,
      "outputs": [
        {
          "output_type": "stream",
          "name": "stdout",
          "text": [
            "Accuracy on Test: 0.9874766853184119\n",
            "Classification Report:\n",
            "               precision    recall  f1-score   support\n",
            "\n",
            "           0       0.98      1.00      0.99      2751\n",
            "           1       1.00      0.96      0.98      1002\n",
            "\n",
            "    accuracy                           0.99      3753\n",
            "   macro avg       0.99      0.98      0.98      3753\n",
            "weighted avg       0.99      0.99      0.99      3753\n",
            "\n",
            "Accuracy: 0.9819763828464885\n",
            "Classification Report:\n",
            "               precision    recall  f1-score   support\n",
            "\n",
            "           0       0.98      1.00      0.99      1201\n",
            "           1       1.00      0.93      0.96       408\n",
            "\n",
            "    accuracy                           0.98      1609\n",
            "   macro avg       0.99      0.96      0.98      1609\n",
            "weighted avg       0.98      0.98      0.98      1609\n",
            "\n"
          ]
        }
      ]
    },
    {
      "cell_type": "code",
      "source": [
        "cm = confusion_matrix(y_test, y_pred_test)\n",
        "plt.figure(figsize=(8, 6))\n",
        "sns.heatmap(cm, annot=True, fmt='d', cmap='Blues', xticklabels=['Ham', 'Phishing'], yticklabels=['Ham', 'Phishing'])\n",
        "plt.xlabel('Predicted Label')\n",
        "plt.ylabel('True Label')\n",
        "plt.title('Confusion Matrix')\n",
        "plt.show()"
      ],
      "metadata": {
        "colab": {
          "base_uri": "https://localhost:8080/",
          "height": 564
        },
        "id": "PFb78sjDyAHf",
        "outputId": "b55c3026-9d26-42dd-f1af-1fb1a248da0c"
      },
      "execution_count": 36,
      "outputs": [
        {
          "output_type": "display_data",
          "data": {
            "text/plain": [
              "<Figure size 800x600 with 2 Axes>"
            ],
            "image/png": "[encoded data removed]"
          },
          "metadata": {}
        }
      ]
    },
    {
      "cell_type": "code",
      "source": [
        "model_filename = 'email_detection_naive_bayes.pkl'\n",
        "with open(model_filename, 'wb') as model_file:\n",
        "    pickle.dump(naive_bayes_model, model_file)"
      ],
      "metadata": {
        "id": "j_NtbBeUy8NG"
      },
      "execution_count": 37,
      "outputs": []
    },
    {
      "cell_type": "markdown",
      "source": [
        "**Loading and Testing Models**"
      ],
      "metadata": {
        "id": "IFbCmmThXYsD"
      }
    },
    {
      "cell_type": "code",
      "source": [
        "with open('email_detection_logistic_regression.pkl', 'rb') as model_file:\n",
        "    loaded_LR_model = pickle.load(model_file)\n",
        "with open('email_detection_random_forest.pkl', 'rb') as model_file:\n",
        "    loaded_RF_model = pickle.load(model_file)\n",
        "with open('email_detection_naive_bayes.pkl', 'rb') as model_file:\n",
        "    loaded_NB_model = pickle.load(model_file)"
      ],
      "metadata": {
        "id": "HU6QOPN_NmZC"
      },
      "execution_count": 38,
      "outputs": []
    },
    {
      "cell_type": "code",
      "source": [
        "testing_dataframe = pd.read_csv('phishing_data_by_type.csv')\n",
        "testing_data = [testing_dataframe[\"Text\"][40]]"
      ],
      "metadata": {
        "id": "BeDm8byHz5U_"
      },
      "execution_count": 42,
      "outputs": []
    },
    {
      "cell_type": "code",
      "source": [
        "print(\"True Label: Phishing (1)\")\n",
        "testing_features = feature_extraction.transform(testing_data)\n",
        "prediction = loaded_LR_model.predict(testing_features)\n",
        "print(prediction)\n",
        "prediction = loaded_RF_model.predict(testing_features)\n",
        "print(prediction)\n",
        "prediction = loaded_NB_model.predict(testing_features)\n",
        "print(prediction)"
      ],
      "metadata": {
        "colab": {
          "base_uri": "https://localhost:8080/"
        },
        "id": "D8rft45g0dEM",
        "outputId": "2ec17254-42cc-4c01-c697-32a23f5ec166"
      },
      "execution_count": 43,
      "outputs": [
        {
          "output_type": "stream",
          "name": "stdout",
          "text": [
            "True Label: Phishing (1)\n",
            "[1]\n",
            "[1]\n",
            "[1]\n"
          ]
        }
      ]
    },
    {
      "cell_type": "code",
      "source": [
        "print(\"True Label: Safe (0)\")\n",
        "text = [\"Hello, We work with the Space Communications and Navigation (SCaN) Internship Project at NASA’s Goddard Space Flight Center in Greenbelt, MD. This past summer, we had the pleasure to work with one of your students, Carter T. Edmond. As an intern, Carter prototyped the messaging service for LunaNet, an innovative framework that aims to create an infrastructure of robust communications, navigation, and networking capabilities for NASA's long-term presence on the Moon.  The messaging service prototype is a core component of its interoperability, and his work offers a functional example of LunaNet's communication services. I wanted to reach out in case you would be interested in highlighting this as a story on your digital news and social media platforms. We’ve briefly described their work in our internal journal, viewable through https://esc.gsfc.nasa.gov/participate/ or directly accessible here. If you are interested in featuring Carter’s accomplishments in a story or social post, we would be happy to provide additional content, photos, project descriptions, or quotes as needed. A promotional video celebrating the summer class of 2023 is here. The SCaN Internship Project (SIP) is a 10-week curriculum of professional development that complements the core NASA intern experience. The SIP offers individualized mentorship, networking, and skill-building opportunities to students. This was Carter’s fourth internship with us. If any of your students are interested in similar opportunities, positions for summer 2024 are already online with new ones expected between now and the end of the calendar year on intern.nasa.gov. Rolling admissions close in February 2024. SIP positions can be found with keyword ‘SCaN’. Looking forward to hearing back from you, Korine Powers (she/her) and Jimmy Acevedo (he/him) Educational Outreach and STEM Engagement SpecialistsExploration & Space Communications (ESC) Projects Division | Code 450 NASA Goddard Space Flight Center ASRC Federal | Purpose-Driven. Enduring Commitment.\"]\n",
        "input_features = feature_extraction.transform(text)\n",
        "prediction = loaded_LR_model.predict(input_features)\n",
        "print(prediction)\n",
        "prediction = loaded_RF_model.predict(input_features)\n",
        "print(prediction)\n",
        "prediction = loaded_NB_model.predict(input_features)\n",
        "print(prediction)"
      ],
      "metadata": {
        "colab": {
          "base_uri": "https://localhost:8080/"
        },
        "id": "s7f0jym24TRY",
        "outputId": "d4d348c3-a32b-42d9-f388-98b4e5e5900f"
      },
      "execution_count": 57,
      "outputs": [
        {
          "output_type": "stream",
          "name": "stdout",
          "text": [
            "True Label: Safe (0)\n",
            "[0]\n",
            "[0]\n",
            "[0]\n"
          ]
        }
      ]
    }
  ]
}